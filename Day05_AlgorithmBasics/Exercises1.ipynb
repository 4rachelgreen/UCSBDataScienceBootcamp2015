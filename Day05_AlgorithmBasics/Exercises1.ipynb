{
 "cells": [
  {
   "cell_type": "code",
   "execution_count": 17,
   "metadata": {
    "collapsed": false
   },
   "outputs": [],
   "source": [
    "#import numpy\n",
    "import datetime\n",
    "from IPython.html.widgets import interact\n",
    "\n",
    "#timing function\n",
    "\n",
    "def time_sort(nn, f):\n",
    "    before = datetime.datetime.now()\n",
    "    n_runs = 100\n",
    "    for i in range(n_runs):\n",
    "        f(nn)\n",
    "    print \"I'm here\"\n",
    "    print \"Took \", (datetime.datetime.now() - before).microseconds/float(n_runs), \"microseconds\""
   ]
  },
  {
   "cell_type": "code",
   "execution_count": 19,
   "metadata": {
    "collapsed": true
   },
   "outputs": [],
   "source": [
    "#wrapper utilities\n",
    "\n",
    "def simple_sort(nn):\n",
    "    l = [2,3,4,5]\n",
    "    #l = numpy.random.rand(nn); \n",
    "    l.sort()\n",
    "\n",
    "def time_simple_sort_wrapper(nn):\n",
    "    time_sort(nn, simple_sort)\n"
   ]
  },
  {
   "cell_type": "code",
   "execution_count": 20,
   "metadata": {
    "collapsed": false
   },
   "outputs": [
    {
     "name": "stdout",
     "output_type": "stream",
     "text": [
      "I'm here\n",
      "Took  1.59 microseconds\n"
     ]
    }
   ],
   "source": [
    "time_sort(1000, simple_sort)"
   ]
  },
  {
   "cell_type": "code",
   "execution_count": 16,
   "metadata": {
    "collapsed": false
   },
   "outputs": [
    {
     "name": "stdout",
     "output_type": "stream",
     "text": [
      "I'm here\n",
      "Took  449.6 microseconds\n"
     ]
    }
   ],
   "source": [
    "#explore different parameters\n",
    "interact(time_simple_sort_wrapper, nn=(100,1000000,10000));"
   ]
  },
  {
   "cell_type": "markdown",
   "metadata": {},
   "source": [
    "## Counting Sort\n",
    "\n",
    "Implement the couting sort algorithm, compare with standard sort."
   ]
  },
  {
   "cell_type": "code",
   "execution_count": null,
   "metadata": {
    "collapsed": true
   },
   "outputs": [],
   "source": []
  },
  {
   "cell_type": "markdown",
   "metadata": {},
   "source": [
    "# Fisher-Yates Sampler\n",
    "\n",
    "Implement the Fisher Yates sampler, compare with naive swapping"
   ]
  },
  {
   "cell_type": "code",
   "execution_count": null,
   "metadata": {
    "collapsed": true
   },
   "outputs": [],
   "source": []
  },
  {
   "cell_type": "markdown",
   "metadata": {},
   "source": [
    "#Peak finding\n",
    "\n",
    "Implement the peak finding algorithm, in three variations"
   ]
  },
  {
   "cell_type": "code",
   "execution_count": 21,
   "metadata": {
    "collapsed": true
   },
   "outputs": [],
   "source": [
    "a = [1,2,3,3,4,5,5,6,7,8,6,5,4,3,3,3,2,1]"
   ]
  },
  {
   "cell_type": "code",
   "execution_count": 22,
   "metadata": {
    "collapsed": false
   },
   "outputs": [
    {
     "name": "stderr",
     "output_type": "stream",
     "text": [
      "/Users/lucafoschini/anaconda/lib/python2.7/site-packages/pytz/__init__.py:29: UserWarning: Module argparse was already imported from /Users/lucafoschini/anaconda/lib/python2.7/argparse.pyc, but /Users/lucafoschini/anaconda/lib/python2.7/site-packages is being added to sys.path\n",
      "  from pkg_resources import resource_stream\n"
     ]
    }
   ],
   "source": [
    "import pandas as pd"
   ]
  },
  {
   "cell_type": "code",
   "execution_count": 24,
   "metadata": {
    "collapsed": false
   },
   "outputs": [
    {
     "data": {
      "text/plain": [
       "<matplotlib.axes._subplots.AxesSubplot at 0x10b95e710>"
      ]
     },
     "execution_count": 24,
     "metadata": {},
     "output_type": "execute_result"
    },
    {
     "data": {
      "image/png": "[encoded data removed]",
      "text/plain": [
       "<matplotlib.figure.Figure at 0x10b95e050>"
      ]
     },
     "metadata": {},
     "output_type": "display_data"
    }
   ],
   "source": [
    "%matplotlib inline\n",
    "pd.Series(a).plot()"
   ]
  },
  {
   "cell_type": "code",
   "execution_count": 60,
   "metadata": {
    "collapsed": true
   },
   "outputs": [],
   "source": [
    "import random\n",
    "def unoptimize_peak_finder(nn):\n",
    "    random.seed(1729)\n",
    "    a = numpy.random.rand(nn); \n",
    "    for i in range(1,len(a)-2):\n",
    "        if a[i-1] < a[i] and a[i] > a[i+1]:\n",
    "            #print \"Found it in position:\", i, \"value:\", a[i]\n",
    "            return"
   ]
  },
  {
   "cell_type": "code",
   "execution_count": 61,
   "metadata": {
    "collapsed": false
   },
   "outputs": [],
   "source": [
    "def max_unoptimized_peak_finder(nn):\n",
    "    random.seed(1729)\n",
    "    a = numpy.random.rand(nn); \n",
    "    #print \"peak found in position\", a.argmax(), \"value:\", a.max()"
   ]
  },
  {
   "cell_type": "code",
   "execution_count": 55,
   "metadata": {
    "collapsed": false
   },
   "outputs": [
    {
     "name": "stdout",
     "output_type": "stream",
     "text": [
      "Found it in position: 2 value: 0.769971017198\n"
     ]
    }
   ],
   "source": [
    "unoptimize_peak_finder(100)"
   ]
  },
  {
   "cell_type": "code",
   "execution_count": 56,
   "metadata": {
    "collapsed": false
   },
   "outputs": [
    {
     "name": "stdout",
     "output_type": "stream",
     "text": [
      "peak found in position 51 value: 0.999438356127\n"
     ]
    }
   ],
   "source": [
    "import numpy as np\n",
    "max_unoptimized_peak_finder(100)"
   ]
  },
  {
   "cell_type": "code",
   "execution_count": 58,
   "metadata": {
    "collapsed": true
   },
   "outputs": [],
   "source": [
    "def time_fun(nn, fun):\n",
    "    before = datetime.datetime.now()\n",
    "    n_runs = 100\n",
    "    for i in range(n_runs):\n",
    "        fun(nn)\n",
    "    print \"Took \", (datetime.datetime.now() - before).microseconds/float(n_runs), \"microseconds\""
   ]
  },
  {
   "cell_type": "code",
   "execution_count": 67,
   "metadata": {
    "collapsed": false
   },
   "outputs": [
    {
     "name": "stdout",
     "output_type": "stream",
     "text": [
      "Took  6427.68 microseconds\n"
     ]
    }
   ],
   "source": [
    "time_fun(10000000, unoptimize_peak_finder)"
   ]
  },
  {
   "cell_type": "code",
   "execution_count": 66,
   "metadata": {
    "collapsed": false
   },
   "outputs": [
    {
     "name": "stdout",
     "output_type": "stream",
     "text": [
      "Took  8869.36 microseconds\n"
     ]
    }
   ],
   "source": [
    "time_fun(10000000, max_unoptimized_peak_finder)"
   ]
  },
  {
   "cell_type": "code",
   "execution_count": null,
   "metadata": {
    "collapsed": true
   },
   "outputs": [],
   "source": [
    "def optimized_peak_finder(nn):\n",
    "    random.seed(1729)\n",
    "    a = numpy.random.rand(nn); \n",
    "    \n",
    "    i = 0\n",
    "    j = nn - 1 \n",
    "    \n",
    "    while( i <= j ):\n",
    "        m = (i+j)/2\n",
    "        if a[m-1] < a[m] and a[m] > a[m+1]:\n",
    "            print \"found it!\", m, a[m]\n",
    "            break\n",
    "        elif a[m-1] < a[m]:\n",
    "            i = m + 1\n",
    "        else: # a[m] > a[m+1]:\n",
    "            j = m - 1\n"
   ]
  }
 ],
 "metadata": {
  "kernelspec": {
   "display_name": "Python 2",
   "language": "python",
   "name": "python2"
  },
  "language_info": {
   "codemirror_mode": {
    "name": "ipython",
    "version": 2
   },
   "file_extension": ".py",
   "mimetype": "text/x-python",
   "name": "python",
   "nbconvert_exporter": "python",
   "pygments_lexer": "ipython2",
   "version": "2.7.10"
  }
 },
 "nbformat": 4,
 "nbformat_minor": 0
}
